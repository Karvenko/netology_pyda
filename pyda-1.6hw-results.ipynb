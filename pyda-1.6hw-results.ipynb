{
 "cells": [
  {
   "cell_type": "code",
   "execution_count": 1,
   "metadata": {},
   "outputs": [],
   "source": [
    "import pandas as pd\n",
    "import matplotlib.pyplot as plt"
   ]
  },
  {
   "cell_type": "markdown",
   "metadata": {},
   "source": [
    "## Задание 1"
   ]
  },
  {
   "cell_type": "code",
   "execution_count": 2,
   "metadata": {},
   "outputs": [],
   "source": [
    "ml = pd.read_csv('ml-latest\\\\ratings.csv')"
   ]
  },
  {
   "cell_type": "code",
   "execution_count": 3,
   "metadata": {},
   "outputs": [
    {
     "name": "stdout",
     "output_type": "stream",
     "text": [
      "Wall time: 870 ms\n"
     ]
    }
   ],
   "source": [
    "%%time\n",
    "best_film = ml.query('rating == 5.')['movieId'].value_counts().idxmax()"
   ]
  },
  {
   "cell_type": "code",
   "execution_count": 4,
   "metadata": {},
   "outputs": [],
   "source": [
    "movies_names = pd.read_csv('ml-latest\\\\movies.csv')"
   ]
  },
  {
   "cell_type": "code",
   "execution_count": 5,
   "metadata": {},
   "outputs": [
    {
     "name": "stdout",
     "output_type": "stream",
     "text": [
      "     movieId                             title       genres\n",
      "315      318  Shawshank Redemption, The (1994)  Crime|Drama\n"
     ]
    }
   ],
   "source": [
    "print(movies_names.query('movieId == {}'.format(best_film)))"
   ]
  },
  {
   "cell_type": "markdown",
   "metadata": {},
   "source": [
    "## Задание 2"
   ]
  },
  {
   "cell_type": "code",
   "execution_count": 6,
   "metadata": {},
   "outputs": [
    {
     "name": "stdout",
     "output_type": "stream",
     "text": [
      "Wall time: 700 ms\n"
     ]
    },
    {
     "data": {
      "text/plain": [
       "240580.0"
      ]
     },
     "execution_count": 6,
     "metadata": {},
     "output_type": "execute_result"
    }
   ],
   "source": [
    "%%time\n",
    "power_frame = pd.read_csv('power.csv')\n",
    "\n",
    "power_frame.query('country in [\"Lithuania\", \"Latvia\", \"Estonia\"] & quantity > 0 & category in [4, 12, 21]\\\n",
    "                 & year >= 2005 & year <= 2010')['quantity'].sum()"
   ]
  },
  {
   "cell_type": "markdown",
   "metadata": {},
   "source": [
    "## Задание 3"
   ]
  },
  {
   "cell_type": "code",
   "execution_count": 7,
   "metadata": {},
   "outputs": [
    {
     "name": "stdout",
     "output_type": "stream",
     "text": [
      "<class 'pandas.core.frame.DataFrame'>\n",
      "RangeIndex: 614 entries, 0 to 613\n",
      "Data columns (total 6 columns):\n",
      "#               614 non-null int64\n",
      "Фамилия И.О.    614 non-null object\n",
      "Разряд          614 non-null float64\n",
      "Город           614 non-null object\n",
      "Рейтинг         614 non-null int64\n",
      "ПБ              614 non-null int64\n",
      "dtypes: float64(1), int64(3), object(2)\n",
      "memory usage: 28.9+ KB\n",
      "   #  Фамилия И.О.  Разряд         Город  Рейтинг    ПБ\n",
      "0  1  Матушко Г.В.    -5.0        Троицк     5514   637\n",
      "1  2   Громов А.В.    -5.0        Москва     5462  1240\n",
      "2  3    Орлов С.Ю.    -4.5          Тула     5101   475\n",
      "3  4  Гулевич А.С.    -4.5         Тверь     4868   287\n",
      "4  5   Хохлов Ю.В.    -5.0  С.-Петербург     4816   489\n"
     ]
    },
    {
     "data": {
      "text/html": [
       "<div>\n",
       "<style scoped>\n",
       "    .dataframe tbody tr th:only-of-type {\n",
       "        vertical-align: middle;\n",
       "    }\n",
       "\n",
       "    .dataframe tbody tr th {\n",
       "        vertical-align: top;\n",
       "    }\n",
       "\n",
       "    .dataframe thead th {\n",
       "        text-align: right;\n",
       "    }\n",
       "</style>\n",
       "<table border=\"1\" class=\"dataframe\">\n",
       "  <thead>\n",
       "    <tr style=\"text-align: right;\">\n",
       "      <th></th>\n",
       "      <th>#</th>\n",
       "      <th>Разряд</th>\n",
       "      <th>Рейтинг</th>\n",
       "      <th>ПБ</th>\n",
       "    </tr>\n",
       "  </thead>\n",
       "  <tbody>\n",
       "    <tr>\n",
       "      <th>count</th>\n",
       "      <td>614.000000</td>\n",
       "      <td>614.000000</td>\n",
       "      <td>614.000000</td>\n",
       "      <td>614.000000</td>\n",
       "    </tr>\n",
       "    <tr>\n",
       "      <th>mean</th>\n",
       "      <td>307.500000</td>\n",
       "      <td>-0.048046</td>\n",
       "      <td>612.008143</td>\n",
       "      <td>34.110749</td>\n",
       "    </tr>\n",
       "    <tr>\n",
       "      <th>std</th>\n",
       "      <td>177.390811</td>\n",
       "      <td>1.971706</td>\n",
       "      <td>969.135424</td>\n",
       "      <td>96.790927</td>\n",
       "    </tr>\n",
       "    <tr>\n",
       "      <th>min</th>\n",
       "      <td>1.000000</td>\n",
       "      <td>-5.000000</td>\n",
       "      <td>1.000000</td>\n",
       "      <td>0.000000</td>\n",
       "    </tr>\n",
       "    <tr>\n",
       "      <th>25%</th>\n",
       "      <td>154.250000</td>\n",
       "      <td>-1.500000</td>\n",
       "      <td>31.000000</td>\n",
       "      <td>0.000000</td>\n",
       "    </tr>\n",
       "    <tr>\n",
       "      <th>50%</th>\n",
       "      <td>307.500000</td>\n",
       "      <td>0.000000</td>\n",
       "      <td>160.000000</td>\n",
       "      <td>3.000000</td>\n",
       "    </tr>\n",
       "    <tr>\n",
       "      <th>75%</th>\n",
       "      <td>460.750000</td>\n",
       "      <td>1.000000</td>\n",
       "      <td>786.750000</td>\n",
       "      <td>26.750000</td>\n",
       "    </tr>\n",
       "    <tr>\n",
       "      <th>max</th>\n",
       "      <td>614.000000</td>\n",
       "      <td>5.000000</td>\n",
       "      <td>5514.000000</td>\n",
       "      <td>1240.000000</td>\n",
       "    </tr>\n",
       "  </tbody>\n",
       "</table>\n",
       "</div>"
      ],
      "text/plain": [
       "                #      Разряд      Рейтинг           ПБ\n",
       "count  614.000000  614.000000   614.000000   614.000000\n",
       "mean   307.500000   -0.048046   612.008143    34.110749\n",
       "std    177.390811    1.971706   969.135424    96.790927\n",
       "min      1.000000   -5.000000     1.000000     0.000000\n",
       "25%    154.250000   -1.500000    31.000000     0.000000\n",
       "50%    307.500000    0.000000   160.000000     3.000000\n",
       "75%    460.750000    1.000000   786.750000    26.750000\n",
       "max    614.000000    5.000000  5514.000000  1240.000000"
      ]
     },
     "execution_count": 7,
     "metadata": {},
     "output_type": "execute_result"
    }
   ],
   "source": [
    "bf = pd.DataFrame(pd.read_html(\"http://bridgesport.ru/rate/r20190801.htm\")[0])\n",
    "bf['Разряд'] = bf['Разряд'].str.strip('*').astype(float) # В оригинальной таблице есть * в столбце разряд. Это значит, что он временный\n",
    "#Ни на что особо не влияет, но мешает импортировать столбец как число, что не удобно\n",
    "bf.info()\n",
    "print(bf.head()) #Продолжу Holly War - без принта Head будет перезаписан на экране после выпонения Describe :) Я за явность :)\n",
    "bf.describe() #Я свой выбор сделал, оставлю здесь пока так для обоснования, потом исправлюсь :)"
   ]
  },
  {
   "cell_type": "markdown",
   "metadata": {},
   "source": [
    "## Задание 3*\n",
    "### Пройтись по всем аналогичным файлам и построить график средних занчений. Раньше января 2015 года данные не релевантны - произошла смена оценок"
   ]
  },
  {
   "cell_type": "code",
   "execution_count": 8,
   "metadata": {},
   "outputs": [],
   "source": [
    "str_start = 'http://bridgesport.ru/rate/r'\n",
    "str_end = '01.htm'\n",
    "stat_DF = pd.DataFrame(columns=['Разряд','Рейтинг','ПБ'])\n",
    "\n",
    "for year in range(2014, 2019):\n",
    "    for month in ['01', '02', '03', '04', '05', '06', '07', '08', '09', '10', '11', '12']:\n",
    "        link = f'{str_start}{year}{month}{str_end}'\n",
    "        #print(link)\n",
    "        cur_list = pd.DataFrame(pd.read_html(link)[0])\n",
    "        cur_list['Разряд'] = cur_list['Разряд'].str.strip('*').astype(float) #remove *\n",
    "        stat_DF = stat_DF.append(cur_list.mean()[['Разряд', 'Рейтинг', 'ПБ']], ignore_index=True)\n",
    "\n"
   ]
  },
  {
   "cell_type": "code",
   "execution_count": 9,
   "metadata": {},
   "outputs": [],
   "source": [
    "stat_DF['Разряд'] = stat_DF['Разряд']*10\n",
    "stat_DF['Рейтинг'] = stat_DF['Рейтинг'] / 100\n",
    "stat_DF['ПБ'] = stat_DF['ПБ'] / 10 #Ручная нормализация :)\n",
    "\n"
   ]
  },
  {
   "cell_type": "code",
   "execution_count": 10,
   "metadata": {},
   "outputs": [
    {
     "data": {
      "image/png": "[encoded data removed]",
      "text/plain": [
       "<Figure size 432x288 with 1 Axes>"
      ]
     },
     "metadata": {
      "needs_background": "light"
     },
     "output_type": "display_data"
    },
    {
     "name": "stdout",
     "output_type": "stream",
     "text": [
      "     Разряд   Рейтинг        ПБ\n",
      "0  2.475884  5.099019  2.061576\n",
      "1  2.623397  5.116891  2.080128\n",
      "2  2.678914  5.130288  2.091534\n",
      "3  2.682035  5.163816  2.110811\n",
      "4  2.630573  5.149236  2.132325\n"
     ]
    }
   ],
   "source": [
    "\n",
    "stat_DF.plot()\n",
    "plt.show()\n",
    "print(stat_DF.head())"
   ]
  },
  {
   "cell_type": "code",
   "execution_count": null,
   "metadata": {},
   "outputs": [],
   "source": []
  }
 ],
 "metadata": {
  "kernelspec": {
   "display_name": "Python 3",
   "language": "python",
   "name": "python3"
  },
  "language_info": {
   "codemirror_mode": {
    "name": "ipython",
    "version": 3
   },
   "file_extension": ".py",
   "mimetype": "text/x-python",
   "name": "python",
   "nbconvert_exporter": "python",
   "pygments_lexer": "ipython3",
   "version": "3.7.3"
  }
 },
 "nbformat": 4,
 "nbformat_minor": 2
}
