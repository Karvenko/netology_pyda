{
 "cells": [
  {
   "cell_type": "markdown",
   "metadata": {},
   "source": [
    "**Задание 1**. Даны 2 строки: *long_phrase* и *short_phrase*. \n",
    "Напишите код, который проверяет действительно ли длинная фраза *long_phrase* длиннее короткой *short_phrase*. И выводит *True* или *False* в зависимости от результата сравнения."
   ]
  },
  {
   "cell_type": "code",
   "execution_count": 1,
   "metadata": {},
   "outputs": [],
   "source": [
    "long_phrase = 'Насколько проще было бы писать программы, если бы не заказчики'\n",
    "short_phrase = '640Кб должно хватить для любых задач. Билл Гейтс (по легенде)'"
   ]
  },
  {
   "cell_type": "code",
   "execution_count": 2,
   "metadata": {},
   "outputs": [
    {
     "data": {
      "text/plain": [
       "True"
      ]
     },
     "execution_count": 2,
     "metadata": {},
     "output_type": "execute_result"
    }
   ],
   "source": [
    "len (long_phrase) > len (short_phrase)"
   ]
  },
  {
   "cell_type": "markdown",
   "metadata": {},
   "source": [
    "**Задание 2**. Дано значение объема файла в байтах. Напишите перевод этого значения в мегабайты в формате: \"*Объем файла равен 213.68Mb*\""
   ]
  },
  {
   "cell_type": "code",
   "execution_count": 5,
   "metadata": {},
   "outputs": [
    {
     "name": "stdout",
     "output_type": "stream",
     "text": [
      "Please input size of file: 1234567\n",
      "FIle size is 1.18 Mb\n"
     ]
    }
   ],
   "source": [
    "file_size_b = int(input(\"Please input size of file: \"))\n",
    "file_size_M = file_size_b / (1024 * 1024)\n",
    "print (\"File size is %0.2f Mb\" %file_size_M)"
   ]
  },
  {
   "cell_type": "markdown",
   "metadata": {},
   "source": [
    "**Задание 3**. Разработать приложение для определения знака зодиака по дате рождения. Пример:\n",
    "\n",
    "Введите месяц: март\n",
    "\n",
    "Введите число: 6\n",
    "\n",
    "Вывод:\n",
    "Рыбы"
   ]
  },
  {
   "cell_type": "code",
   "execution_count": 37,
   "metadata": {},
   "outputs": [
    {
     "name": "stdout",
     "output_type": "stream",
     "text": [
      "Введите месяц: ывеыук\n",
      "Неправильно введен месяц!  ывеыук\n"
     ]
    }
   ],
   "source": [
    "#Вместо написания толпы Ифов я решил заморочиться :) Не подскажете, как корректно выходить из try-exception без \n",
    "# блока else? exit & sys.exit у меня не срабатывают...\n",
    "\n",
    "#функция проверки корректности дня - високосный год не ловит\n",
    "def day_check (month, day):\n",
    "    max_days = (31, 28, 31, 30, 31, 30, 31, 31, 30, 31, 30, 31)\n",
    "    return day >= 1 and day <= max_days[month]\n",
    "\n",
    "#словарь месяцев\n",
    "month_to_num = {'январь':0, 'февраль':1, 'март':2, 'апрель':3, 'май':4, 'июнь':5, 'июль':6,\n",
    "                'август':7, 'сентябрь':8, 'октябрь':9, 'ноябрь':10, 'декабрь':11}\n",
    "#дата смены знака зодиака в месяце, начиная с Козерога - 19.01\n",
    "change_day = (19, 18, 20, 19, 20, 20, 22, 22, 22, 22, 21, 21)\n",
    "zodiacs = ('Козерог', 'Водолей', 'Рыбы', 'Овен', 'Телец', 'Близнецы', 'Рак', 'Лев', 'Дева', 'Весы', \n",
    "           'Скорпион', 'Стрелец')\n",
    "\n",
    "in_month = input( 'Введите месяц: ').lower()\n",
    "\n",
    "try:\n",
    "    month_number = month_to_num[in_month]\n",
    "except:\n",
    "    print ('Неправильно введен месяц! ', in_month)\n",
    "else:\n",
    "    \n",
    "    try:\n",
    "        in_day = int(input( 'Введите день: '))\n",
    "    except:\n",
    "        print ('Вы ввели не число!')\n",
    "    else:\n",
    "        if day_check (month_number, in_day):\n",
    "            if month_number == 11 and in_day > change_day[month_number]: #проверка декабря\n",
    "                print (zodiacs[0])\n",
    "            elif in_day > change_day[month_number]: #следующий знак\n",
    "                print (zodiacs[month_number+1])\n",
    "            else:\n",
    "                print (zodiacs[month_number]) #текущий знак\n",
    "        else:\n",
    "            print ('Недопустимое значение дня! ', in_day)\n"
   ]
  },
  {
   "cell_type": "markdown",
   "metadata": {},
   "source": [
    "**Задание 4**. Нужно разработать приложение для финансового планирования.\n",
    "Приложение учитывает сколько уходит на ипотеку, \"на жизнь\" и сколько нужно отложить на пенсию.\n",
    "Пользователь вводит:\n",
    "- заработанную плату в месяц.\n",
    "- сколько процентов от ЗП уходит на ипотеку.\n",
    "- сколько процентов от ЗП уходит \"на жизнь\".\n",
    "- сколько раз приходит премия в год.\n",
    "\n",
    "Остальная часть заработанной платы откладывается на пенсию.\n",
    "\n",
    "Также пользователю приходит премия в размере зарплаты, от которой половина уходит на отпуск, а вторая половина откладывается.\n",
    "\n",
    "Программа должна учитывать сколько премий было в год.\n",
    "\n",
    "Нужно вывести сколько денег тратит пользователь на ипотеку и сколько он накопит за год.\n",
    "\n",
    "Пример:\n",
    "\n",
    "Введите заработанную плату в месяц: 100000\n",
    "\n",
    "Введите сколько процентов уходит на ипотеку: 30\n",
    "\n",
    "Введите сколько процентов уходит на жизнь: 50\n",
    "\n",
    "Введите количество премий за год: 2\n",
    "\n",
    "Вывод:\n",
    "На ипотеку было потрачено: 360000 рублей\n",
    "Было накоплено: 340000 рублей"
   ]
  },
  {
   "cell_type": "code",
   "execution_count": 51,
   "metadata": {},
   "outputs": [
    {
     "name": "stdout",
     "output_type": "stream",
     "text": [
      "Введите зарплату: 100000\n",
      "Введите процент по ипотеке: 30\n",
      "Введите процент на жизнь:50\n",
      "Кол-во премий: 2\n",
      "Ипотека 360000 \n",
      "Накопления 340000\n",
      "100000.0   30.0   50.0   2\n"
     ]
    }
   ],
   "source": [
    "try:\n",
    "    salary = float(input('Введите зарплату: '))\n",
    "    mortage = float(input('Введите процент по ипотеке: '))\n",
    "    life = float(input('Введите процент на жизнь:'))\n",
    "    bonus = int(input('Кол-во премий: '))\n",
    "except:\n",
    "    print('Что-то пошло не так!')\n",
    "else:\n",
    "    if salary <= 0:\n",
    "        print('Learn Data Science!')\n",
    "    elif mortage < 0 or mortage > 100:\n",
    "        print('Incorrect Mortage')\n",
    "    elif life <= 0 or life > 100:\n",
    "        print('Incorrect expenses')\n",
    "    elif bonus < 0:\n",
    "        print('Incorrect bonus')\n",
    "    elif mortage+life > 100:\n",
    "        print('Вы тратите больше, чем зарабатываете!')\n",
    "    else:\n",
    "        mortage_total = 12 * salary * mortage / 100\n",
    "        savings = 12 * salary * (100 - life - mortage)/ 100 + bonus * salary / 2\n",
    "        print ('Ипотека %d \\nНакопления %d' %(mortage_total, savings))\n"
   ]
  }
 ],
 "metadata": {
  "kernelspec": {
   "display_name": "Python 3",
   "language": "python",
   "name": "python3"
  },
  "language_info": {
   "codemirror_mode": {
    "name": "ipython",
    "version": 3
   },
   "file_extension": ".py",
   "mimetype": "text/x-python",
   "name": "python",
   "nbconvert_exporter": "python",
   "pygments_lexer": "ipython3",
   "version": "3.7.3"
  }
 },
 "nbformat": 4,
 "nbformat_minor": 2
}
