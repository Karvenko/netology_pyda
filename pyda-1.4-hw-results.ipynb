{
 "cells": [
  {
   "cell_type": "markdown",
   "metadata": {},
   "source": [
    "## Решение заданий 1-2 в тексте кода. В конце - проверка\n"
   ]
  },
  {
   "cell_type": "code",
   "execution_count": 1,
   "metadata": {},
   "outputs": [],
   "source": [
    "import requests"
   ]
  },
  {
   "cell_type": "code",
   "execution_count": 2,
   "metadata": {},
   "outputs": [],
   "source": [
    "class Rate:\n",
    "    def __init__(self, format_='value', diff_=False):\n",
    "        self.format = format_\n",
    "        self.diff = diff_\n",
    "    \n",
    "    def exchange_rates(self):\n",
    "        \"\"\"\n",
    "        Возвращает ответ сервиса с информацией о валютах в виде:\n",
    "        \n",
    "        {\n",
    "            'AMD': {\n",
    "                'CharCode': 'AMD',\n",
    "                'ID': 'R01060',\n",
    "                'Name': 'Армянских драмов',\n",
    "                'Nominal': 100,\n",
    "                'NumCode': '051',\n",
    "                'Previous': 14.103,\n",
    "                'Value': 14.0879\n",
    "                },\n",
    "            ...\n",
    "        }\n",
    "        \"\"\"\n",
    "        r = requests.get('https://www.cbr-xml-daily.ru/daily_json.js')\n",
    "        return r.json()['Valute']\n",
    "    \n",
    "    def make_format(self, currency):\n",
    "        \"\"\"\n",
    "        Возвращает информацию о валюте currency в двух вариантах:\n",
    "        - полная информация о валюте при self.format = 'full':\n",
    "        Rate('full').make_format('EUR')\n",
    "        {\n",
    "            'CharCode': 'EUR',\n",
    "            'ID': 'R01239',\n",
    "            'Name': 'Евро',\n",
    "            'Nominal': 1,\n",
    "            'NumCode': '978',\n",
    "            'Previous': 79.6765,\n",
    "            'Value': 79.4966\n",
    "        }\n",
    "        \n",
    "        Rate('value').make_format('EUR')\n",
    "        79.4966\n",
    "        \"\"\"\n",
    "        response = self.exchange_rates()\n",
    "        \n",
    "        if currency in response:\n",
    "            if self.format == 'full':\n",
    "                return response[currency]\n",
    "            \n",
    "            if self.format == 'value':\n",
    "                if self.diff:\n",
    "                    return response[currency]['Value'] - response[currency]['Previous'] #for Task 2\n",
    "                else:\n",
    "                    return response[currency]['Value']\n",
    "        \n",
    "        return 'Error'\n",
    "    \n",
    "    def eur(self):\n",
    "        \"\"\"Возвращает курс евро на сегодня в формате self.format\"\"\"\n",
    "        return self.make_format('EUR')\n",
    "    \n",
    "    def usd(self):\n",
    "        \"\"\"Возвращает курс доллара на сегодня в формате self.format\"\"\"\n",
    "        return self.make_format('USD')\n",
    "    \n",
    "    #Task 1 function\n",
    "    def special_rates(self): #Function returns special result with dublicate rates. For testing only!\n",
    "        return {\"AUD\": {\"ID\": \"R01010\", \"NumCode\": \"036\", \"CharCode\": \"AUD\", \"Nominal\": 1, \"Name\": \"Австралийский доллар\",\n",
    "                        \"Value\": 44.1752, \"Previous\": 44.3664},\n",
    "                \"AZN\": { \"ID\": \"R01020A\", \"NumCode\": \"944\", \"CharCode\": \"AZN\", \"Nominal\": 1, \"Name\": \"Азербайджанский манат\",\n",
    "                        \"Value\": 38.434, \"Previous\": 38.6688},\n",
    "                \"GBP\": { \"ID\": \"R01035\", \"NumCode\": \"826\", \"CharCode\": \"GBP\", \"Nominal\": 1, \"Name\": \"Фунт стерлингов Соединенного королевства\",\n",
    "                        \"Value\": 78.6416, \"Previous\": 79.1091},\n",
    "                \"AMD\": {\"ID\": \"R01060\", \"NumCode\": \"051\", \"CharCode\": \"AMD\", \"Nominal\": 100, \"Name\": \"Армянских драмов\",\n",
    "                        \"Value\": 7864.16, \"Previous\": 13.7819},\n",
    "                \"BYN\": {\"ID\": \"R01090B\", \"NumCode\": \"933\", \"CharCode\": \"BYN\", \"Nominal\": 1, \"Name\": \"Белорусский рубль\",\n",
    "                        \"Value\": 31.9295, \"Previous\": 32.1089}}\n",
    "            \n",
    "            \n",
    "    def most_expensive(self):\n",
    "        \"\"\"Return Name of most expencive currency\"\"\"\n",
    "        \n",
    "        max_value = -1.0\n",
    "        max_Name = []\n",
    "        \n",
    "        response = self.exchange_rates()\n",
    "        #response = self.special_rates()\n",
    "        for cur_currency in response.keys():\n",
    "            ex_rate = response[cur_currency]['Value'] / response[cur_currency]['Nominal'] #some values are for 10 or 100, not 1\n",
    "            if ex_rate > max_value:\n",
    "                max_Name = [response[cur_currency]['Name']]\n",
    "                max_value = ex_rate\n",
    "            elif ex_rate == max_value:\n",
    "                max_Name.append(response[cur_currency]['Name'])#some exchange rates may be the same\n",
    "                \n",
    "        return max_Name\n",
    "    \n",
    "    #Task 2 functions. Main functionality in make_format()\n",
    "    def get_diff(self):\n",
    "        return self.diff\n",
    "    \n",
    "    def set_diff(self, diff):\n",
    "        self.diff = diff\n",
    "        return"
   ]
  },
  {
   "cell_type": "code",
   "execution_count": 3,
   "metadata": {},
   "outputs": [
    {
     "data": {
      "text/plain": [
       "['СДР (специальные права заимствования)']"
      ]
     },
     "execution_count": 3,
     "metadata": {},
     "output_type": "execute_result"
    }
   ],
   "source": [
    "r = Rate()\n",
    "r.most_expensive()"
   ]
  },
  {
   "cell_type": "code",
   "execution_count": 4,
   "metadata": {},
   "outputs": [
    {
     "name": "stdout",
     "output_type": "stream",
     "text": [
      "False\n",
      "True\n"
     ]
    }
   ],
   "source": [
    "print(r.get_diff())\n",
    "r.set_diff(True)\n",
    "print(r.get_diff())"
   ]
  },
  {
   "cell_type": "code",
   "execution_count": 5,
   "metadata": {},
   "outputs": [
    {
     "name": "stdout",
     "output_type": "stream",
     "text": [
      "-0.3984999999999985\n",
      "-0.5112000000000023\n"
     ]
    }
   ],
   "source": [
    "print(r.usd())\n",
    "print(r.eur())"
   ]
  },
  {
   "cell_type": "markdown",
   "metadata": {},
   "source": [
    "## Решение задачи 3"
   ]
  },
  {
   "cell_type": "code",
   "execution_count": 6,
   "metadata": {},
   "outputs": [],
   "source": [
    "class Employee:\n",
    "    \n",
    "    def __init__(self, name_, seniority_):\n",
    "        self.name = name_\n",
    "        self.seniority = seniority_\n",
    "        self.grade = 1\n",
    "    \n",
    "    def grade_up(self):\n",
    "        \"\"\"Повышает уровень сотрудника\"\"\"\n",
    "        self.grade += 1\n",
    "    \n",
    "    def publish_grade(self):\n",
    "        \"\"\"Публикация результатов аккредитации сотрудников\"\"\"\n",
    "        print(self.name, self.grade)\n",
    "        \n",
    "class Designer(Employee):\n",
    "    def __init__(self, name_, seniority_, awards_):\n",
    "        self.name = name_\n",
    "        self.seniority = seniority_\n",
    "        self.awards = awards_\n",
    "        self.grade = self.grade_count()#Assigning correct grade during init according to seniority & awards\n",
    "    \n",
    "    def grade_count(self): #Calculationg correct grade according to seniority & awards\n",
    "        return (self.seniority + 2 * self.awards) // 7\n",
    "    \n",
    "    def check_if_it_is_time_for_upgrade(self):\n",
    "        # для каждой аккредитации увеличиваем счетчик на 1\n",
    "        # пока считаем, что все разработчики проходят аккредитацию\n",
    "        self.seniority += 1\n",
    "        \n",
    "        # условие повышения сотрудника из презентации \n",
    "        #Replaced explicit calculation with function call - single place for changing grade calc logic\n",
    "        #if self.seniority % 5 == 0:\n",
    "        #    self.grade_up()\n",
    "        self.grade = self.grade_count()\n",
    "        \n",
    "        # публикация результатов\n",
    "        return self.publish_grade()\n",
    "        "
   ]
  },
  {
   "cell_type": "code",
   "execution_count": 7,
   "metadata": {},
   "outputs": [],
   "source": [
    "elena = Designer('Елена', 0, 7)"
   ]
  },
  {
   "cell_type": "code",
   "execution_count": 8,
   "metadata": {},
   "outputs": [
    {
     "name": "stdout",
     "output_type": "stream",
     "text": [
      "Елена 2\n",
      "Елена 2\n",
      "Елена 2\n",
      "Елена 2\n",
      "Елена 2\n",
      "Елена 2\n",
      "Елена 3\n",
      "Елена 3\n",
      "Елена 3\n",
      "Елена 3\n",
      "Елена 3\n",
      "Елена 3\n",
      "Елена 3\n",
      "Елена 4\n",
      "Елена 4\n",
      "Елена 4\n",
      "Елена 4\n",
      "Елена 4\n",
      "Елена 4\n",
      "Елена 4\n"
     ]
    }
   ],
   "source": [
    "for i in range(20):\n",
    "    elena.check_if_it_is_time_for_upgrade()"
   ]
  },
  {
   "cell_type": "code",
   "execution_count": null,
   "metadata": {},
   "outputs": [],
   "source": []
  }
 ],
 "metadata": {
  "kernelspec": {
   "display_name": "Python 3",
   "language": "python",
   "name": "python3"
  },
  "language_info": {
   "codemirror_mode": {
    "name": "ipython",
    "version": 3
   },
   "file_extension": ".py",
   "mimetype": "text/x-python",
   "name": "python",
   "nbconvert_exporter": "python",
   "pygments_lexer": "ipython3",
   "version": "3.7.3"
  }
 },
 "nbformat": 4,
 "nbformat_minor": 2
}
