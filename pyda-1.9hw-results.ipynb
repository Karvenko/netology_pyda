{
 "cells": [
  {
   "cell_type": "code",
   "execution_count": 1,
   "metadata": {},
   "outputs": [],
   "source": [
    "from datetime import datetime\n",
    "from datetime import timedelta"
   ]
  },
  {
   "cell_type": "markdown",
   "metadata": {},
   "source": [
    "### Задание 3\n",
    "Немного модифицировал для дальнейших нужд. Если дата некорректна, то False, иначе возвращает дату."
   ]
  },
  {
   "cell_type": "code",
   "execution_count": 2,
   "metadata": {},
   "outputs": [],
   "source": [
    "def is_correct_date(date, format_string):\n",
    "    \n",
    "    try:\n",
    "        return_date = datetime.strptime(date, format_string)\n",
    "    except:\n",
    "        return False\n",
    "    \n",
    "    return return_date"
   ]
  },
  {
   "cell_type": "markdown",
   "metadata": {},
   "source": [
    "### Задание 1-2"
   ]
  },
  {
   "cell_type": "code",
   "execution_count": 3,
   "metadata": {},
   "outputs": [],
   "source": [
    "def date_range(start_date, end_date):\n",
    "    \n",
    "    date_list = []\n",
    "    format_string = '%Y-%m-%d'\n",
    "    \n",
    "    first = is_correct_date(start_date, format_string)\n",
    "    last = is_correct_date(end_date, format_string)\n",
    "    if not (first and last):\n",
    "        return date_list\n",
    "    \n",
    "    while first <= last:\n",
    "        date_list.append(datetime.strftime(first, format_string))\n",
    "        first += timedelta(days=1)\n",
    "    \n",
    "    return date_list\n"
   ]
  },
  {
   "cell_type": "code",
   "execution_count": 4,
   "metadata": {},
   "outputs": [
    {
     "data": {
      "text/plain": [
       "['2015-12-29',\n",
       " '2015-12-30',\n",
       " '2015-12-31',\n",
       " '2016-01-01',\n",
       " '2016-01-02',\n",
       " '2016-01-03',\n",
       " '2016-01-04',\n",
       " '2016-01-05',\n",
       " '2016-01-06',\n",
       " '2016-01-07',\n",
       " '2016-01-08',\n",
       " '2016-01-09',\n",
       " '2016-01-10']"
      ]
     },
     "execution_count": 4,
     "metadata": {},
     "output_type": "execute_result"
    }
   ],
   "source": [
    "date_range('2015-12-29', '2016-01-10')"
   ]
  },
  {
   "cell_type": "code",
   "execution_count": 5,
   "metadata": {},
   "outputs": [
    {
     "data": {
      "text/plain": [
       "datetime.datetime(2000, 2, 29, 0, 0)"
      ]
     },
     "execution_count": 5,
     "metadata": {},
     "output_type": "execute_result"
    }
   ],
   "source": [
    "is_correct_date('2000-02-29', '%Y-%m-%d')"
   ]
  },
  {
   "cell_type": "markdown",
   "metadata": {},
   "source": [
    "### Задание 5\n",
    "Китайский подход к нумерации)) Они стараются не использовать число 4, так как оно звучит как \"смерть\")"
   ]
  },
  {
   "cell_type": "code",
   "execution_count": 9,
   "metadata": {},
   "outputs": [],
   "source": [
    "position_list = [0, 1, 2, 3] #СПИСОК позиций, по которым идет поиск \n",
    "search_value_position = 3 # Что ищем\n",
    "line_to_find = ('1', '22964', '4', '99842')\n"
   ]
  },
  {
   "cell_type": "code",
   "execution_count": 10,
   "metadata": {},
   "outputs": [],
   "source": [
    "def fill_dict(filename, position_list, search_value_position):\n",
    "    \n",
    "    stats_dict = {}\n",
    "\n",
    "    with open(filename) as f:\n",
    "        for line in f:\n",
    "            line = line.strip().split(',')\n",
    "            cur_tuple = tuple([line[i] for i in position_list])\n",
    "            stats_dict[cur_tuple] = line[search_value_position]\n",
    "            \n",
    "    return stats_dict\n",
    "                "
   ]
  },
  {
   "cell_type": "code",
   "execution_count": 11,
   "metadata": {},
   "outputs": [
    {
     "data": {
      "text/plain": [
       "'99842'"
      ]
     },
     "execution_count": 11,
     "metadata": {},
     "output_type": "execute_result"
    }
   ],
   "source": [
    "my = fill_dict('stats.csv', position_list, search_value_position)\n",
    "my[line_to_find]"
   ]
  },
  {
   "cell_type": "code",
   "execution_count": null,
   "metadata": {},
   "outputs": [],
   "source": []
  }
 ],
 "metadata": {
  "kernelspec": {
   "display_name": "Python 3",
   "language": "python",
   "name": "python3"
  },
  "language_info": {
   "codemirror_mode": {
    "name": "ipython",
    "version": 3
   },
   "file_extension": ".py",
   "mimetype": "text/x-python",
   "name": "python",
   "nbconvert_exporter": "python",
   "pygments_lexer": "ipython3",
   "version": "3.7.3"
  }
 },
 "nbformat": 4,
 "nbformat_minor": 2
}
