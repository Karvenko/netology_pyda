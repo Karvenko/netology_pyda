{
 "cells": [
  {
   "cell_type": "markdown",
   "metadata": {},
   "source": [
    "## Задание 1"
   ]
  },
  {
   "cell_type": "markdown",
   "metadata": {},
   "source": [
    "Дан список вида:"
   ]
  },
  {
   "cell_type": "code",
   "execution_count": null,
   "metadata": {},
   "outputs": [],
   "source": []
  },
  {
   "cell_type": "code",
   "execution_count": 45,
   "metadata": {},
   "outputs": [
    {
     "name": "stdout",
     "output_type": "stream",
     "text": [
      "103\n"
     ]
    }
   ],
   "source": [
    "data = [\n",
    "    [13, 25, 23, 34],\n",
    "    [45, 32, 44, 47],\n",
    "    [12, 33, 23, 95],\n",
    "    [13, 53, 34, 35]\n",
    "]\n",
    "\n",
    "def diagSum(matrix): \n",
    "    \"\"\"Лично мне кажется, что диагональ есть только у квадратных матриц. \n",
    "    Поэтому со всеми остальными данная функция не работает\"\"\"\n",
    "    \n",
    "    is_square = True\n",
    "    \n",
    "    n_rows = len(matrix)\n",
    "    result = 0\n",
    "    \n",
    "    for counter in range(0, n_rows):\n",
    "        cur_row = matrix[counter]\n",
    "        cur_len = len(cur_row)\n",
    "        if cur_len != n_rows:\n",
    "            is_square = False\n",
    "            break\n",
    "            \n",
    "        result += cur_row[counter]\n",
    "        \n",
    "    if not is_square:\n",
    "        raise Exception(f'Matrix is not square! Error in row {counter}')\n",
    "        \n",
    "    return result\n",
    "\n",
    "try:\n",
    "    result = diagSum(data)\n",
    "except Exception as err_msg:\n",
    "    print(err_msg)\n",
    "else:\n",
    "    print(result)\n",
    "        \n",
    "    "
   ]
  },
  {
   "cell_type": "markdown",
   "metadata": {},
   "source": [
    "Напишите функцию, которая возвращает сумму элементов на диагонали. Т. е. 13+32+23+35."
   ]
  },
  {
   "cell_type": "markdown",
   "metadata": {},
   "source": [
    "## Задание 2"
   ]
  },
  {
   "cell_type": "markdown",
   "metadata": {},
   "source": [
    "Дан список чисел, часть из которых имеют строковый тип или содержат буквы. Напишите функцию, которая возвращает сумму квадратов элементов, которые могут быть числами."
   ]
  },
  {
   "cell_type": "code",
   "execution_count": 37,
   "metadata": {},
   "outputs": [
    {
     "data": {
      "text/plain": [
       "754.00098596"
      ]
     },
     "execution_count": 37,
     "metadata": {},
     "output_type": "execute_result"
    }
   ],
   "source": [
    "data = [1, '5', 'asd', '-18', 20, '2', '3.14e-2']\n",
    "\n",
    "def isConvertibleToFloat(f_str):\n",
    "    try:\n",
    "        float(f_str)\n",
    "        return True\n",
    "    except:\n",
    "        return False\n",
    "    \n",
    "    \n",
    "def sumSquared( data_arr):\n",
    "    \n",
    "    result = 0.0\n",
    "    for cur_str in data_arr:\n",
    "        if isConvertibleToFloat(cur_str):\n",
    "            result += float(cur_str)**2\n",
    "        \n",
    "    return result\n",
    "            \n",
    "sumSquared(data)"
   ]
  },
  {
   "cell_type": "markdown",
   "metadata": {},
   "source": [
    "## Задание 3"
   ]
  },
  {
   "cell_type": "markdown",
   "metadata": {},
   "source": [
    "Напишите функцию, возвращающую сумму первых n чисел Фибоначчи."
   ]
  },
  {
   "cell_type": "code",
   "execution_count": 38,
   "metadata": {},
   "outputs": [
    {
     "name": "stdout",
     "output_type": "stream",
     "text": [
      "1 : 1\n",
      "2 : 1\n",
      "3 : 2\n",
      "4 : 3\n",
      "5 : 5\n",
      "6 : 8\n",
      "7 : 13\n",
      "8 : 21\n",
      "9 : 34\n",
      "10 : 55\n",
      "11 : 89\n",
      "12 : 144\n",
      "13 : 233\n",
      "14 : 377\n",
      "15 : 610\n",
      "16 : 987\n",
      "17 : 1597\n",
      "18 : 2584\n",
      "19 : 4181\n",
      "20 : 6765\n",
      "21 : 10946\n",
      "22 : 17711\n",
      "23 : 28657\n",
      "24 : 46368\n",
      "25 : 75025\n",
      "26 : 121393\n",
      "27 : 196418\n",
      "28 : 317811\n",
      "29 : 514229\n",
      "30 : 832040\n",
      "31 : 1346269\n",
      "32 : 2178309\n",
      "33 : 3524578\n",
      "34 : 5702887\n",
      "35 : 9227465\n",
      "36 : 14930352\n",
      "37 : 24157817\n",
      "38 : 39088169\n",
      "39 : 63245986\n",
      "1 : 1\n",
      "2 : 1\n",
      "3 : 2\n",
      "4 : 3\n",
      "5 : 5\n",
      "6 : 8\n",
      "7 : 13\n",
      "8 : 21\n",
      "9 : 34\n",
      "10 : 55\n",
      "11 : 89\n",
      "12 : 144\n",
      "13 : 233\n",
      "14 : 377\n",
      "15 : 610\n",
      "16 : 987\n",
      "17 : 1597\n",
      "18 : 2584\n",
      "19 : 4181\n",
      "20 : 6765\n",
      "21 : 10946\n",
      "22 : 17711\n",
      "23 : 28657\n",
      "24 : 46368\n",
      "25 : 75025\n",
      "26 : 121393\n",
      "27 : 196418\n",
      "28 : 317811\n",
      "29 : 514229\n",
      "30 : 832040\n",
      "31 : 1346269\n",
      "32 : 2178309\n",
      "33 : 3524578\n",
      "34 : 5702887\n",
      "35 : 9227465\n",
      "36 : 14930352\n",
      "37 : 24157817\n",
      "38 : 39088169\n",
      "39 : 63245986\n"
     ]
    }
   ],
   "source": [
    "def fibNumber(f_num):\n",
    "    \n",
    "    f_n_1 = 1\n",
    "    f_n_2 = 1\n",
    "\n",
    "    if f_num == 1 or f_num == 2:\n",
    "        return 1\n",
    "    \n",
    "    for f_index in range(2, f_num):\n",
    "        result = f_n_1 + f_n_2\n",
    "        f_n_2, f_n_1 = f_n_1, result\n",
    "        \n",
    "    return result\n",
    "\n",
    "def fibNumberSlow(f_num): #посмотрим, насколько медленнее работает рекурсия))) Знаю, что так делать нельзя))\n",
    "    \n",
    "    if f_num == 1 or f_num == 2:\n",
    "        return 1\n",
    "    \n",
    "    return fibNumberSlow(f_num-1) + fibNumberSlow(f_num-2)\n",
    "\n",
    "for index in range(1, 40):\n",
    "    print(f'{index} : {fibNumber(index)}')\n",
    "    \n",
    "    \n",
    "#Slow run - approx 1 minute\n",
    "for index in range(1, 40):\n",
    "    print(f'{index} : {fibNumberSlow(index)}')"
   ]
  },
  {
   "cell_type": "markdown",
   "metadata": {},
   "source": [
    "## Задание 4"
   ]
  },
  {
   "cell_type": "markdown",
   "metadata": {},
   "source": [
    "Дан набор данных об обучении студентов на курсе программирования, который содержит: \n",
    "1) имя\n",
    "2) фамилию \n",
    "3) пол \n",
    "4) наличие у студента опыта в программировании \n",
    "5) набор оценок за домашние работы \n",
    "6) оценку за итоговую работу.\n",
    "\n",
    "Напишите программу, которая будет принимать команду от пользователя и возвращать соотвествующий результат.\n",
    "Список команд: \n",
    "1 - вывести на экран среднюю оценку за все ДЗ по группе и вывести на экран среднюю оценку за экзамен по группе;\n",
    "2 - вывести среднюю оценку за ДЗ и за экзамен по группе в разрезе пола студентов\n",
    "3 - вывести среднюю оценку за ДЗ и за экзамен в разрезе наличия опыта в программировании у студентов.\n",
    "\n",
    "Прогрмма должна быть полностью декомпозирована на функции (кроме объявления функций и вызова итоговой функции в реализации ничего быть не должно)."
   ]
  },
  {
   "cell_type": "code",
   "execution_count": 77,
   "metadata": {},
   "outputs": [
    {
     "name": "stdout",
     "output_type": "stream",
     "text": [
      "Input your choice[1-3] 3\n",
      "program_exp\n",
      "{True: {'avg_hw': 8.48, 'avg_ex': 9.0}, False: {'avg_hw': 7.9, 'avg_ex': 8.5}}\n"
     ]
    }
   ],
   "source": [
    "students_list = [\n",
    "    {'name': 'Василий', 'surname': 'Теркин', 'sex': 'м', 'program_exp': True, 'grade': [8, 8, 9, 10, 9], 'exam': 9},\n",
    "    {'name': 'Мария', 'surname': 'Павлова', 'sex': 'ж', 'program_exp': True, 'grade': [7, 8, 9, 7, 9], 'exam': 8},\n",
    "    {'name': 'Ирина', 'surname': 'Андреева', 'sex': 'ж', 'program_exp': True, 'grade': [10, 9, 8, 10, 10], 'exam': 10},\n",
    "    {'name': 'Татьяна', 'surname': 'Сидорова', 'sex': 'ж', 'program_exp': True, 'grade': [7, 8, 8, 9, 8], 'exam': 8},\n",
    "    {'name': 'Иван', 'surname': 'Васильев', 'sex': 'ж', 'program_exp': True, 'grade': [9, 8, 9, 6, 9], 'exam': 10},\n",
    "    {'name': 'Роман', 'surname': 'Золотарев', 'sex': 'ж', 'program_exp': False, 'grade': [8, 9, 9, 6, 9], 'exam': 10},\n",
    "    {'name': 'Вася', 'surname': 'Пупкин', 'sex': 'третий', 'program_exp': False, 'grade': [8, 9, 9, 3, 9], 'exam': 7}\n",
    "]\n",
    "\n",
    "def isCorrectInput(opt_str):\n",
    "    \n",
    "    try:\n",
    "        option = int(opt_str)\n",
    "    except:\n",
    "        return False\n",
    "    else:\n",
    "        if option >= 1 and option <= 3:\n",
    "            return option\n",
    "        else:\n",
    "            return False\n",
    "\n",
    "def setOption(option):\n",
    "    \n",
    "    if int(option) == 2:\n",
    "        return 'sex'\n",
    "    elif int(option) == 3:\n",
    "        return 'program_exp'\n",
    "    elif int(option) == 1:\n",
    "        return 'total'\n",
    "\n",
    "    \n",
    "def unconvStats():\n",
    "    \n",
    "    hw_num = 0\n",
    "    hw_sum = 0\n",
    "    ex_sum = 0\n",
    "    ex_num = len(students_list)\n",
    "    \n",
    "    for cur_st in students_list:\n",
    "        for cur_hw in cur_st['grade']:\n",
    "            hw_sum += cur_hw\n",
    "            hw_num += 1\n",
    "        \n",
    "        ex_sum += cur_st['exam']\n",
    "        \n",
    "    return {'total':{'avg_hw':hw_sum/hw_num, 'avg_ex':ex_sum/ex_num}}\n",
    "\n",
    "#print(unconvStats())\n",
    "\n",
    "def convStats(key):\n",
    "    \n",
    "    temp_result = {} #Структура словаря: ключ:{сумма ДЗ:N, кол-во ДЗ:N, сумма экзамена:N, кол-во экзамена:N}. \n",
    "    #Можно работать с 3-м полом и различными оценками по программированию))\n",
    "    result = {}\n",
    "    \n",
    "    for cur_st in students_list:\n",
    "        if not temp_result.get(cur_st[key]):\n",
    "            temp_result[cur_st[key]] = {'hw_sum' : 0, 'hw_num' : 0, 'ex_sum' : 0, 'ex_num' : 0}\n",
    "            \n",
    "        for cur_hw in cur_st['grade']:\n",
    "            temp_result[cur_st[key]]['hw_sum'] += cur_hw\n",
    "            temp_result[cur_st[key]]['hw_num'] += 1\n",
    "            \n",
    "        temp_result[cur_st[key]]['ex_sum'] += cur_st['exam']\n",
    "        temp_result[cur_st[key]]['ex_num'] += 1\n",
    "        \n",
    "    #print(temp_result)\n",
    "    for cur_key in temp_result.keys():\n",
    "        result[cur_key] = {'avg_hw':temp_result[cur_key]['hw_sum']/temp_result[cur_key]['hw_num'], \n",
    "                           'avg_ex': temp_result[cur_key]['ex_sum']/temp_result[cur_key]['ex_num']}\n",
    "        \n",
    "    return result\n",
    "\n",
    "def list_stats():\n",
    "    opt_input = input('Input your choice[1-3] ')\n",
    "    \n",
    "    if not isCorrectInput(opt_input):\n",
    "        print('Incorrect input!')\n",
    "        return False\n",
    "    \n",
    "    key = setOption(opt_input)\n",
    "    print(key)\n",
    "    \n",
    "    if key == 'total':\n",
    "        result = unconvStats()\n",
    "    else:\n",
    "        result = convStats(key)\n",
    "        \n",
    "    print(result)\n",
    "    \n",
    "list_stats()"
   ]
  },
  {
   "cell_type": "code",
   "execution_count": null,
   "metadata": {},
   "outputs": [],
   "source": []
  }
 ],
 "metadata": {
  "kernelspec": {
   "display_name": "Python 3",
   "language": "python",
   "name": "python3"
  },
  "language_info": {
   "codemirror_mode": {
    "name": "ipython",
    "version": 3
   },
   "file_extension": ".py",
   "mimetype": "text/x-python",
   "name": "python",
   "nbconvert_exporter": "python",
   "pygments_lexer": "ipython3",
   "version": "3.7.3"
  }
 },
 "nbformat": 4,
 "nbformat_minor": 2
}
